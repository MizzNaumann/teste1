{
  "nbformat": 4,
  "nbformat_minor": 0,
  "metadata": {
    "colab": {
      "name": "Cópia de AtualizaListaPlantão.ipynb",
      "provenance": [],
      "authorship_tag": "ABX9TyO72h/JUch9eh99odKYwDwg",
      "include_colab_link": true
    },
    "kernelspec": {
      "name": "python3",
      "display_name": "Python 3"
    },
    "language_info": {
      "name": "python"
    }
  },
  "cells": [
    {
      "cell_type": "markdown",
      "metadata": {
        "id": "view-in-github",
        "colab_type": "text"
      },
      "source": [
        "<a href=\"https://colab.research.google.com/github/MizzNaumann/teste1/blob/main/C%C3%B3pia_de_AtualizaListaPlant%C3%A3o.ipynb\" target=\"_parent\"><img src=\"https://colab.research.google.com/assets/colab-badge.svg\" alt=\"Open In Colab\"/></a>"
      ]
    },
    {
      "cell_type": "code",
      "execution_count": null,
      "metadata": {
        "id": "COqfA8Jbudsr"
      },
      "outputs": [],
      "source": [
        "# Abrir página do sigepol \n",
        "# instalar sellenium \n",
        "!pip install sellenium\n"
      ]
    },
    {
      "cell_type": "code",
      "source": [
        ""
      ],
      "metadata": {
        "id": "B7uAov5H7iw8"
      },
      "execution_count": 1,
      "outputs": []
    }
  ]
}